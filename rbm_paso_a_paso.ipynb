{
 "cells": [
  {
   "cell_type": "markdown",
   "metadata": {},
   "source": [
    "<h1>Notebook: RBM para Sistemas de Recomendación con MovieLens 1M</h1>"
   ]
  },
  {
   "cell_type": "markdown",
   "metadata": {},
   "source": [
    "<h4>Configuración del Entorno<h4>"
   ]
  },
  {
   "cell_type": "code",
   "execution_count": 1,
   "metadata": {},
   "outputs": [
    {
     "name": "stdout",
     "output_type": "stream",
     "text": [
      "Usando dispositivo: cuda\n"
     ]
    }
   ],
   "source": [
    "#Primero, importaremos las librerías necesarias y configuraremos el dispositivo (CPU o CUDA) para aprovechar la aceleración de hardware si está disponible.\n",
    "# Importación de librerías necesarias\n",
    "import numpy as np\n",
    "import pandas as pd\n",
    "import torch\n",
    "import torch.nn as nn\n",
    "import torch.optim as optim\n",
    "from sklearn.model_selection import train_test_split\n",
    "import matplotlib.pyplot as plt\n",
    "import scipy.sparse as sp\n",
    "from torch.utils.data import DataLoader, TensorDataset\n",
    "\n",
    "# Configuración del dispositivo (CPU o CUDA)\n",
    "device = torch.device(\"cuda\" if torch.cuda.is_available() else \"cpu\")\n",
    "print(f\"Usando dispositivo: {device}\")\n"
   ]
  },
  {
   "cell_type": "markdown",
   "metadata": {},
   "source": [
    "<h4>Carga y Preprocesamiento de los Datos<h4>"
   ]
  },
  {
   "cell_type": "code",
   "execution_count": 8,
   "metadata": {},
   "outputs": [],
   "source": [
    "# Cargar las valoraciones desde el archivo 'ratings.dat'\n",
    "ratings = pd.read_csv(\n",
    "    'data/ml-1m/ratings.dat',\n",
    "    sep='::',\n",
    "    header=None,\n",
    "    engine='python',\n",
    "    names=['UserID', 'MovieID', 'Rating', 'Timestamp']\n",
    ")\n"
   ]
  },
  {
   "cell_type": "code",
   "execution_count": 9,
   "metadata": {},
   "outputs": [
    {
     "name": "stdout",
     "output_type": "stream",
     "text": [
      "Número de usuarios: 6040\n",
      "Número de películas: 3706\n"
     ]
    }
   ],
   "source": [
    "# Obtener el número único de usuarios y películas\n",
    "nb_users = ratings['UserID'].nunique()\n",
    "nb_movies = ratings['MovieID'].nunique()\n",
    "\n",
    "print(f\"Número de usuarios: {nb_users}\")\n",
    "print(f\"Número de películas: {nb_movies}\")\n"
   ]
  },
  {
   "cell_type": "code",
   "execution_count": 11,
   "metadata": {},
   "outputs": [],
   "source": [
    "# Mapear MovieIDs a índices consecutivos\n",
    "#Para facilitar el manejo de las películas en matrices, mapearemos cada MovieID a un índice consecutivo.\n",
    "unique_movie_ids = ratings['MovieID'].unique()\n",
    "movie_id_to_index = {movie_id: index for index, movie_id in enumerate(unique_movie_ids)}\n"
   ]
  },
  {
   "cell_type": "code",
   "execution_count": 12,
   "metadata": {},
   "outputs": [
    {
     "name": "stdout",
     "output_type": "stream",
     "text": [
      "Número de características de usuario: 30\n"
     ]
    }
   ],
   "source": [
    "#Cargaremos los datos de los usuarios, codificaremos las características categóricas (género, edad y ocupación) utilizando codificación one-hot, \n",
    "# y combinaremos todas las características en una matriz.\n",
    "# Cargar los datos de usuarios desde el archivo 'users.dat'\n",
    "users = pd.read_csv(\n",
    "    'data/ml-1m/users.dat',\n",
    "    sep='::',\n",
    "    header=None,\n",
    "    engine='python',\n",
    "    names=['UserID', 'Gender', 'Age', 'Occupation', 'Zip-code']\n",
    ")\n",
    "\n",
    "# Codificar género utilizando codificación one-hot\n",
    "gender_dummies = pd.get_dummies(users['Gender'], prefix='Gender')\n",
    "\n",
    "# Codificar edad utilizando codificación one-hot\n",
    "age_dummies = pd.get_dummies(users['Age'], prefix='Age')\n",
    "\n",
    "# Codificar ocupación utilizando codificación one-hot\n",
    "occupation_dummies = pd.get_dummies(users['Occupation'], prefix='Occ')\n",
    "\n",
    "# Combinar todas las características codificadas de los usuarios\n",
    "user_features = pd.concat([gender_dummies, age_dummies, occupation_dummies], axis=1)\n",
    "\n",
    "# Asegurar que UserID comienza desde 0\n",
    "users['UserID'] = users['UserID'] - 1\n",
    "user_features = user_features.values  # Convertir a array de NumPy\n",
    "\n",
    "# Convertir las características de usuario a un tensor de PyTorch y enviarlo al dispositivo\n",
    "user_features_tensor = torch.FloatTensor(user_features).to(device)\n",
    "num_user_features = user_features.shape[1]\n",
    "\n",
    "print(f\"Número de características de usuario: {num_user_features}\")\n"
   ]
  },
  {
   "cell_type": "code",
   "execution_count": 13,
   "metadata": {},
   "outputs": [],
   "source": [
    "# Crear división de entrenamiento y prueba (80% entrenamiento, 20% prueba)\n",
    "train_data, test_data = train_test_split(ratings, test_size=0.2, random_state=42)\n"
   ]
  },
  {
   "cell_type": "code",
   "execution_count": 14,
   "metadata": {},
   "outputs": [],
   "source": [
    "#Para manejar eficientemente grandes conjuntos de datos dispersos, utilizaremos matrices dispersas de SciPy \n",
    "# y luego las convertiremos a tensores densos de PyTorch.\n",
    "def convert_optimized(data, nb_users, nb_movies, movie_id_to_index):\n",
    "    \"\"\"\n",
    "    Convierte los datos en una matriz donde las filas representan usuarios\n",
    "    y las columnas representan películas. Las valoraciones no observadas se asignan a 0.\n",
    "    Utiliza una matriz dispersa para mayor eficiencia.\n",
    "\n",
    "    Args:\n",
    "        data (pd.DataFrame): DataFrame con las valoraciones.\n",
    "        nb_users (int): Número total de usuarios.\n",
    "        nb_movies (int): Número total de películas.\n",
    "        movie_id_to_index (dict): Diccionario para mapear MovieID a índices.\n",
    "\n",
    "    Returns:\n",
    "        dense_matrix (torch.Tensor): Tensor denso con las valoraciones.\n",
    "    \"\"\"\n",
    "    data = data.copy()\n",
    "    data['UserID'] = data['UserID'] - 1  # Ajustar índices de usuarios\n",
    "    data['MovieIndex'] = data['MovieID'].map(movie_id_to_index)\n",
    "\n",
    "    # Filtrar entradas válidas\n",
    "    data = data.dropna(subset=['MovieIndex'])\n",
    "    data['MovieIndex'] = data['MovieIndex'].astype(int)\n",
    "\n",
    "    # Construir la matriz dispersa\n",
    "    rows = data['UserID'].astype(int)\n",
    "    cols = data['MovieIndex']\n",
    "    ratings = data['Rating']\n",
    "    sparse_matrix = sp.coo_matrix((ratings, (rows, cols)), shape=(nb_users, nb_movies))\n",
    "\n",
    "    # Convertir a tensor denso\n",
    "    dense_matrix = torch.FloatTensor(sparse_matrix.toarray())\n",
    "\n",
    "    return dense_matrix\n"
   ]
  },
  {
   "cell_type": "code",
   "execution_count": 15,
   "metadata": {},
   "outputs": [],
   "source": [
    "# Convertir los datos de entrenamiento y prueba a tensores densos\n",
    "training_set = convert_optimized(train_data, nb_users, nb_movies, movie_id_to_index)\n",
    "test_set = convert_optimized(test_data, nb_users, nb_movies, movie_id_to_index)"
   ]
  },
  {
   "cell_type": "code",
   "execution_count": 16,
   "metadata": {},
   "outputs": [],
   "source": [
    "#Para simplificar el modelo, binarizaremos las valoraciones: 1 para valoraciones >= 3, 0 para valoraciones 1-2, y -1 para valoraciones no observadas.\n",
    "def binarize(tensor):\n",
    "    \"\"\"\n",
    "    Binariza las valoraciones: 1 para valoraciones >= 3, 0 para valoraciones 1-2, -1 para no observadas.\n",
    "\n",
    "    Args:\n",
    "        tensor (torch.Tensor): Tensor con las valoraciones originales.\n",
    "\n",
    "    Returns:\n",
    "        tensor (torch.Tensor): Tensor binarizado.\n",
    "    \"\"\"\n",
    "    tensor = tensor.clone()\n",
    "    tensor[tensor == 0] = -1\n",
    "    tensor[tensor == 1] = 0\n",
    "    tensor[tensor == 2] = 0\n",
    "    tensor[tensor >= 3] = 1\n",
    "    return tensor\n",
    "\n",
    "# Aplicar la binarización a los conjuntos de entrenamiento y prueba\n",
    "training_set = binarize(training_set).to(device)\n",
    "test_set = binarize(test_set).to(device)\n"
   ]
  },
  {
   "cell_type": "code",
   "execution_count": 17,
   "metadata": {},
   "outputs": [
    {
     "name": "stdout",
     "output_type": "stream",
     "text": [
      "Dimensiones del conjunto de entrenamiento: torch.Size([6040, 3736])\n",
      "Dimensiones del conjunto de prueba: torch.Size([6040, 3736])\n"
     ]
    }
   ],
   "source": [
    "# Concatenar características de usuario a las valoraciones\n",
    "training_set = torch.cat((training_set, user_features_tensor), dim=1)\n",
    "test_set = torch.cat((test_set, user_features_tensor), dim=1)\n",
    "\n",
    "print(f\"Dimensiones del conjunto de entrenamiento: {training_set.shape}\")\n",
    "print(f\"Dimensiones del conjunto de prueba: {test_set.shape}\")\n"
   ]
  },
  {
   "cell_type": "markdown",
   "metadata": {},
   "source": [
    "<h2>Definición de la Clase RBM</h2>"
   ]
  },
  {
   "cell_type": "code",
   "execution_count": 18,
   "metadata": {},
   "outputs": [],
   "source": [
    "# Definición de la clase RBM\n",
    "\n",
    "class RBM(nn.Module):\n",
    "    \"\"\"\n",
    "    Máquina de Boltzmann Restringida (RBM) para sistemas de recomendación.\n",
    "\n",
    "    Args:\n",
    "        nv (int): Número de unidades visibles (valoraciones + características).\n",
    "        nh (int): Número de unidades ocultas.\n",
    "        device (torch.device): Dispositivo (CPU o CUDA).\n",
    "        lr (float): Tasa de aprendizaje.\n",
    "\n",
    "    Attributes:\n",
    "        W (nn.Parameter): Matriz de pesos entre unidades visibles y ocultas.\n",
    "        a (nn.Parameter): Sesgos de las unidades ocultas.\n",
    "        b (nn.Parameter): Sesgos de las unidades visibles.\n",
    "    \"\"\"\n",
    "    def __init__(self, nv, nh, device, lr=0.1):\n",
    "        super(RBM, self).__init__()\n",
    "        self.nv = nv  # Unidades visibles\n",
    "        self.nh = nh  # Unidades ocultas\n",
    "        self.device = device\n",
    "        self.lr = lr\n",
    "\n",
    "        # Inicializar parámetros\n",
    "        self.W = nn.Parameter(torch.randn(nh, nv, device=device) * 0.01)\n",
    "        self.a = nn.Parameter(torch.zeros(1, nh, device=device))\n",
    "        self.b = nn.Parameter(torch.zeros(1, nv, device=device))\n",
    "\n",
    "    def sample_h(self, x):\n",
    "        \"\"\"\n",
    "        Muestrea las unidades ocultas dadas las visibles.\n",
    "\n",
    "        Args:\n",
    "            x (torch.Tensor): Unidades visibles.\n",
    "\n",
    "        Returns:\n",
    "            p_h_given_v (torch.Tensor): Probabilidad de activación de las unidades ocultas.\n",
    "            h_sample (torch.Tensor): Muestras binarias de las unidades ocultas.\n",
    "        \"\"\"\n",
    "        wx = torch.mm(x, self.W.t())\n",
    "        activation = wx + self.a\n",
    "        p_h_given_v = torch.sigmoid(activation)\n",
    "        h_sample = torch.bernoulli(p_h_given_v)\n",
    "        return p_h_given_v, h_sample\n",
    "\n",
    "    def sample_v(self, y):\n",
    "        \"\"\"\n",
    "        Muestrea las unidades visibles dadas las ocultas.\n",
    "\n",
    "        Args:\n",
    "            y (torch.Tensor): Unidades ocultas.\n",
    "\n",
    "        Returns:\n",
    "            p_v_given_h (torch.Tensor): Probabilidad de activación de las unidades visibles.\n",
    "            v_sample (torch.Tensor): Muestras binarias de las unidades visibles.\n",
    "        \"\"\"\n",
    "        wy = torch.mm(y, self.W)\n",
    "        activation = wy + self.b\n",
    "        p_v_given_h = torch.sigmoid(activation)\n",
    "        v_sample = torch.bernoulli(p_v_given_h)\n",
    "        return p_v_given_h, v_sample\n",
    "\n",
    "    def forward(self, v):\n",
    "        \"\"\"\n",
    "        Define el paso forward (opcional para RBM).\n",
    "\n",
    "        Args:\n",
    "            v (torch.Tensor): Unidades visibles.\n",
    "\n",
    "        Returns:\n",
    "            None\n",
    "        \"\"\"\n",
    "        pass\n",
    "\n",
    "    def train_rbm(self, v0, vk, ph0, phk):\n",
    "        \"\"\"\n",
    "        Realiza una actualización de los pesos y sesgos utilizando Contrastive Divergence.\n",
    "\n",
    "        Args:\n",
    "            v0 (torch.Tensor): Entrada original.\n",
    "            vk (torch.Tensor): Entrada reconstruida después de k pasos de Gibbs.\n",
    "            ph0 (torch.Tensor): Probabilidades de activación iniciales de las unidades ocultas.\n",
    "            phk (torch.Tensor): Probabilidades de activación finales de las unidades ocultas.\n",
    "\n",
    "        Returns:\n",
    "            None\n",
    "        \"\"\"\n",
    "        positive_grad = torch.mm(ph0.t(), v0)\n",
    "        negative_grad = torch.mm(phk.t(), vk)\n",
    "\n",
    "        # Asignar gradientes manualmente\n",
    "        self.W.grad = -(positive_grad - negative_grad) / v0.size(0)\n",
    "        self.b.grad = -torch.mean(v0 - vk, dim=0, keepdim=True)\n",
    "        self.a.grad = -torch.mean(ph0 - phk, dim=0, keepdim=True)\n"
   ]
  },
  {
   "cell_type": "markdown",
   "metadata": {},
   "source": [
    "<h2>Inicialización de la RBM y el Optimizador</h2>"
   ]
  },
  {
   "cell_type": "code",
   "execution_count": 19,
   "metadata": {},
   "outputs": [],
   "source": [
    "# Definir hiperparámetros\n",
    "nv = nb_movies + num_user_features  # Número de unidades visibles (valoraciones + características)\n",
    "nh = 200        # Número de unidades ocultas (ajustable)\n",
    "batch_size = 128  # Tamaño del batch (ajustable)\n",
    "lr = 0.005       # Tasa de aprendizaje (ajustable)\n",
    "\n",
    "# Inicializar la RBM\n",
    "rbm = RBM(nv, nh, device, lr).to(device)\n",
    "\n",
    "# Implementar regularización L2\n",
    "weight_decay = 0.0001  # Coeficiente de regularización (ajustable)\n",
    "\n",
    "# Definir el optimizador (SGD con regularización L2)\n",
    "optimizer = optim.SGD(rbm.parameters(), lr=rbm.lr, weight_decay=weight_decay)\n"
   ]
  },
  {
   "cell_type": "markdown",
   "metadata": {},
   "source": [
    "<h3>Preparación de los DataLoaders</h3>"
   ]
  },
  {
   "cell_type": "code",
   "execution_count": 20,
   "metadata": {},
   "outputs": [],
   "source": [
    "# Crear TensorDatasets para entrenamiento y prueba\n",
    "train_dataset = TensorDataset(training_set)\n",
    "test_dataset = TensorDataset(test_set)\n",
    "\n",
    "# Crear DataLoaders\n",
    "train_loader = DataLoader(train_dataset, batch_size=batch_size, shuffle=True)\n",
    "test_loader = DataLoader(test_dataset, batch_size=batch_size, shuffle=False)\n"
   ]
  },
  {
   "cell_type": "markdown",
   "metadata": {},
   "source": [
    "<h1>Entrenamiento de la RBM<h1>"
   ]
  },
  {
   "cell_type": "code",
   "execution_count": 21,
   "metadata": {},
   "outputs": [
    {
     "name": "stdout",
     "output_type": "stream",
     "text": [
      "Epoch: 1, Loss MAE: 0.4433, Test Loss MAE: 0.3997\n",
      "Epoch: 2, Loss MAE: 0.3615, Test Loss MAE: 0.3572\n",
      "Epoch: 3, Loss MAE: 0.3270, Test Loss MAE: 0.3395\n",
      "Epoch: 4, Loss MAE: 0.3098, Test Loss MAE: 0.3234\n",
      "Epoch: 5, Loss MAE: 0.2984, Test Loss MAE: 0.3182\n",
      "Epoch: 6, Loss MAE: 0.2904, Test Loss MAE: 0.3079\n",
      "Epoch: 7, Loss MAE: 0.2837, Test Loss MAE: 0.3056\n",
      "Epoch: 8, Loss MAE: 0.2796, Test Loss MAE: 0.3005\n",
      "Epoch: 9, Loss MAE: 0.2765, Test Loss MAE: 0.2990\n",
      "Epoch: 10, Loss MAE: 0.2732, Test Loss MAE: 0.2964\n",
      "Epoch: 11, Loss MAE: 0.2713, Test Loss MAE: 0.2934\n",
      "Epoch: 12, Loss MAE: 0.2696, Test Loss MAE: 0.2893\n",
      "Epoch: 13, Loss MAE: 0.2672, Test Loss MAE: 0.2879\n",
      "Epoch: 14, Loss MAE: 0.2657, Test Loss MAE: 0.2870\n",
      "Epoch: 15, Loss MAE: 0.2631, Test Loss MAE: 0.2854\n",
      "Epoch: 16, Loss MAE: 0.2629, Test Loss MAE: 0.2855\n",
      "Epoch: 17, Loss MAE: 0.2617, Test Loss MAE: 0.2832\n",
      "Epoch: 18, Loss MAE: 0.2602, Test Loss MAE: 0.2845\n",
      "Epoch: 19, Loss MAE: 0.2589, Test Loss MAE: 0.2815\n",
      "Epoch: 20, Loss MAE: 0.2591, Test Loss MAE: 0.2791\n",
      "Epoch: 21, Loss MAE: 0.2580, Test Loss MAE: 0.2774\n",
      "Epoch: 22, Loss MAE: 0.2570, Test Loss MAE: 0.2767\n",
      "Epoch: 23, Loss MAE: 0.2558, Test Loss MAE: 0.2777\n",
      "Epoch: 24, Loss MAE: 0.2551, Test Loss MAE: 0.2759\n",
      "Epoch: 25, Loss MAE: 0.2551, Test Loss MAE: 0.2776\n",
      "Epoch: 26, Loss MAE: 0.2545, Test Loss MAE: 0.2768\n",
      "Epoch: 27, Loss MAE: 0.2542, Test Loss MAE: 0.2739\n",
      "Epoch: 28, Loss MAE: 0.2542, Test Loss MAE: 0.2734\n",
      "Epoch: 29, Loss MAE: 0.2526, Test Loss MAE: 0.2739\n",
      "Epoch: 30, Loss MAE: 0.2530, Test Loss MAE: 0.2732\n",
      "Epoch: 31, Loss MAE: 0.2522, Test Loss MAE: 0.2734\n",
      "Epoch: 32, Loss MAE: 0.2513, Test Loss MAE: 0.2713\n",
      "Epoch: 33, Loss MAE: 0.2517, Test Loss MAE: 0.2711\n",
      "Epoch: 34, Loss MAE: 0.2510, Test Loss MAE: 0.2709\n",
      "Epoch: 35, Loss MAE: 0.2507, Test Loss MAE: 0.2701\n",
      "Epoch: 36, Loss MAE: 0.2501, Test Loss MAE: 0.2691\n",
      "Epoch: 37, Loss MAE: 0.2504, Test Loss MAE: 0.2680\n",
      "Epoch: 38, Loss MAE: 0.2502, Test Loss MAE: 0.2689\n",
      "Epoch: 39, Loss MAE: 0.2494, Test Loss MAE: 0.2705\n",
      "Epoch: 40, Loss MAE: 0.2493, Test Loss MAE: 0.2698\n",
      "Epoch: 41, Loss MAE: 0.2497, Test Loss MAE: 0.2668\n",
      "Epoch: 42, Loss MAE: 0.2477, Test Loss MAE: 0.2688\n",
      "Epoch: 43, Loss MAE: 0.2480, Test Loss MAE: 0.2659\n",
      "Epoch: 44, Loss MAE: 0.2490, Test Loss MAE: 0.2677\n",
      "Epoch: 45, Loss MAE: 0.2469, Test Loss MAE: 0.2658\n",
      "Epoch: 46, Loss MAE: 0.2464, Test Loss MAE: 0.2653\n",
      "Epoch: 47, Loss MAE: 0.2474, Test Loss MAE: 0.2665\n",
      "Epoch: 48, Loss MAE: 0.2476, Test Loss MAE: 0.2653\n",
      "Epoch: 49, Loss MAE: 0.2473, Test Loss MAE: 0.2665\n",
      "Epoch: 50, Loss MAE: 0.2475, Test Loss MAE: 0.2627\n"
     ]
    }
   ],
   "source": [
    "# Definir número de épocas\n",
    "nb_epoch = 50\n",
    "loss_per_epoch = []\n",
    "test_loss_per_epoch = []\n",
    "\n",
    "# Definir el número de columnas correspondientes a las valoraciones\n",
    "num_visible_ratings = nb_movies  # Número de columnas de valoraciones\n",
    "\n",
    "for epoch in range(1, nb_epoch + 1):\n",
    "    rbm.train()\n",
    "    training_loss = 0\n",
    "    s = 0.\n",
    "    \n",
    "    for batch in train_loader:\n",
    "        v0 = batch[0].to(device)  # Valoraciones originales + características de usuario\n",
    "        vk = v0.clone()\n",
    "        \n",
    "        # Muestrear las unidades ocultas\n",
    "        ph0, _ = rbm.sample_h(v0)\n",
    "        \n",
    "        # Contrastive Divergence con k=1\n",
    "        for k in range(1):\n",
    "            _, hk = rbm.sample_h(vk)\n",
    "            _, vk = rbm.sample_v(hk)\n",
    "            # Mantener las características de usuario sin cambios\n",
    "            vk[:, num_visible_ratings:] = v0[:, num_visible_ratings:]\n",
    "            # Mantener las unidades visibles no observadas en su estado original usando torch.where\n",
    "            vk[:, :num_visible_ratings] = torch.where(\n",
    "                v0[:, :num_visible_ratings] < 0,\n",
    "                v0[:, :num_visible_ratings],\n",
    "                vk[:, :num_visible_ratings]\n",
    "            )\n",
    "        \n",
    "        # Muestrear las unidades ocultas con las visibles reconstruidas\n",
    "        phk, _ = rbm.sample_h(vk)\n",
    "        \n",
    "        # Zero grad\n",
    "        optimizer.zero_grad()\n",
    "        \n",
    "        # Calcular y asignar los gradientes\n",
    "        rbm.train_rbm(v0, vk, ph0, phk)\n",
    "        \n",
    "        # Actualizar parámetros\n",
    "        optimizer.step()\n",
    "        \n",
    "        # Calcular la pérdida (Error absoluto medio)\n",
    "        mask = v0[:, :num_visible_ratings] >= 0  # Solo considerar las valoraciones\n",
    "        if mask.sum() > 0:\n",
    "            loss_mae = torch.mean(torch.abs(v0[:, :num_visible_ratings][mask] - vk[:, :num_visible_ratings][mask])).item()\n",
    "            training_loss += loss_mae\n",
    "            s += 1.\n",
    "    \n",
    "    # Calcular la pérdida promedio de entrenamiento\n",
    "    average_loss = training_loss / s if s > 0 else 0\n",
    "    loss_per_epoch.append(average_loss)\n",
    "    \n",
    "    # Evaluación en el conjunto de prueba\n",
    "    rbm.eval()\n",
    "    testing_loss = 0\n",
    "    s_test = 0.\n",
    "    \n",
    "    with torch.no_grad():\n",
    "        for batch in test_loader:\n",
    "            v = batch[0].to(device)\n",
    "            vt = v.clone()\n",
    "            _, h = rbm.sample_h(v)\n",
    "            _, v_rec = rbm.sample_v(h)\n",
    "            # Mantener las características de usuario sin cambios\n",
    "            v_rec[:, num_visible_ratings:] = v[:, num_visible_ratings:]\n",
    "            # Mantener las unidades visibles no observadas en su estado original usando torch.where\n",
    "            v_rec[:, :num_visible_ratings] = torch.where(\n",
    "                vt[:, :num_visible_ratings] < 0,\n",
    "                vt[:, :num_visible_ratings],\n",
    "                v_rec[:, :num_visible_ratings]\n",
    "            )\n",
    "            mask = vt[:, :num_visible_ratings] >= 0\n",
    "            if mask.sum() > 0:\n",
    "                loss_mae_test = torch.mean(torch.abs(vt[:, :num_visible_ratings][mask] - v_rec[:, :num_visible_ratings][mask])).item()\n",
    "                testing_loss += loss_mae_test\n",
    "                s_test += 1.\n",
    "    \n",
    "    # Calcular la pérdida promedio de prueba\n",
    "    average_test_loss = testing_loss / s_test if s_test > 0 else 0\n",
    "    test_loss_per_epoch.append(average_test_loss)\n",
    "    \n",
    "    # Imprimir resultados de la época\n",
    "    print(f\"Epoch: {epoch}, Loss MAE: {average_loss:.4f}, Test Loss MAE: {average_test_loss:.4f}\")\n"
   ]
  },
  {
   "cell_type": "markdown",
   "metadata": {},
   "source": [
    "<h2>Visualización de la Pérdida</h2>"
   ]
  },
  {
   "cell_type": "code",
   "execution_count": 22,
   "metadata": {},
   "outputs": [
    {
     "data": {
      "image/png": "[encoded data removed]",
      "text/plain": [
       "<Figure size 1000x500 with 1 Axes>"
      ]
     },
     "metadata": {},
     "output_type": "display_data"
    }
   ],
   "source": [
    "# Visualizar la pérdida de entrenamiento y prueba por época\n",
    "plt.figure(figsize=(10,5))\n",
    "plt.plot(range(1, nb_epoch + 1), loss_per_epoch, marker='o', label='Pérdida de Entrenamiento MAE')\n",
    "plt.plot(range(1, nb_epoch + 1), test_loss_per_epoch, marker='x', label='Pérdida de Prueba MAE')\n",
    "plt.xlabel('Época')\n",
    "plt.ylabel('Pérdida MAE')\n",
    "plt.title('Pérdida de Entrenamiento y Prueba por Época')\n",
    "plt.legend()\n",
    "plt.grid(True)\n",
    "plt.show()\n"
   ]
  }
 ],
 "metadata": {
  "kernelspec": {
   "display_name": "Python 3",
   "language": "python",
   "name": "python3"
  },
  "language_info": {
   "codemirror_mode": {
    "name": "ipython",
    "version": 3
   },
   "file_extension": ".py",
   "mimetype": "text/x-python",
   "name": "python",
   "nbconvert_exporter": "python",
   "pygments_lexer": "ipython3",
   "version": "3.12.4"
  }
 },
 "nbformat": 4,
 "nbformat_minor": 2
}
